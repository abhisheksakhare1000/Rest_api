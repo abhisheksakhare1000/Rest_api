{
 "cells": [
  {
   "cell_type": "code",
   "execution_count": 3,
   "id": "d5eaeb67",
   "metadata": {},
   "outputs": [],
   "source": [
    "import requests\n",
    "import json"
   ]
  },
  {
   "cell_type": "raw",
   "id": "3a0d2078",
   "metadata": {},
   "source": []
  },
  {
   "cell_type": "code",
   "execution_count": 4,
   "id": "db28801d",
   "metadata": {},
   "outputs": [],
   "source": [
    "response = requests.get('https://api.stackexchange.com/2.3/questions?order=desc&sort=activity&site=stackoverflow')"
   ]
  },
  {
   "cell_type": "code",
   "execution_count": 6,
   "id": "d871809c",
   "metadata": {},
   "outputs": [
    {
     "name": "stdout",
     "output_type": "stream",
     "text": [
      "<Response [200]>\n"
     ]
    }
   ],
   "source": [
    "print(response) # <Response [200]> means okay"
   ]
  },
  {
   "cell_type": "code",
   "execution_count": 8,
   "id": "2adeac0b",
   "metadata": {},
   "outputs": [
    {
     "name": "stdout",
     "output_type": "stream",
     "text": [
      "{'items': [{'tags': ['graphics', 'virtual-machine', 'bios', 'amd-gpu', 'motherboard'], 'owner': {'account_id': 6627351, 'reputation': 315, 'user_id': 5563324, 'user_type': 'registered', 'accept_rate': 50, 'profile_image': 'https://i.stack.imgur.com/VFAB9.png?s=256&g=1', 'display_name': 'misaligar', 'link': 'https://stackoverflow.com/users/5563324/misaligar'}, 'is_answered': False, 'view_count': 44, 'answer_count': 0, 'score': 0, 'last_activity_date': 1695736215, 'creation_date': 1689427308, 'last_edit_date': 1695736215, 'question_id': 76693949, 'content_license': 'CC BY-SA 4.0', 'link': 'https://stackoverflow.com/questions/76693949/enabling-virtualization-svm-mode-causing-amd-7900x-graphics-driver-to-fail', 'title': 'Enabling Virtualization (SVM Mode) Causing AMD 7900x Graphics Driver to Fail'}, {'tags': ['django'], 'owner': {'account_id': 16089569, 'reputation': 21, 'user_id': 11613348, 'user_type': 'registered', 'profile_image': 'https://www.gravatar.com/avatar/97369cbffcf50b4f96c7e0bd8b6cb66f?s=256&d=identicon&r=PG&f=y&so-version=2', 'display_name': 'guil182', 'link': 'https://stackoverflow.com/users/11613348/guil182'}, 'is_answered': False, 'view_count': 27, 'answer_count': 3, 'score': 0, 'last_activity_date': 1695736207, 'creation_date': 1695394976, 'question_id': 77158777, 'content_license': 'CC BY-SA 4.0', 'link': 'https://stackoverflow.com/questions/77158777/django-table2-reverse-manytomany', 'title': 'Django Table2 reverse ManyTomany'}, {'tags': ['typescript'], 'owner': {'account_id': 28918095, 'reputation': 23, 'user_id': 22149637, 'user_type': 'registered', 'profile_image': 'https://www.gravatar.com/avatar/d550ed5a13b5fb72172c1833605088fe?s=256&d=identicon&r=PG&f=y&so-version=2', 'display_name': 'Anya', 'link': 'https://stackoverflow.com/users/22149637/anya'}, 'is_answered': False, 'view_count': 20, 'answer_count': 2, 'score': 0, 'last_activity_date': 1695736202, 'creation_date': 1695733025, 'question_id': 77180240, 'content_license': 'CC BY-SA 4.0', 'link': 'https://stackoverflow.com/questions/77180240/define-union-type-from-typed-list', 'title': 'Define union type from typed list'}, {'tags': ['c++', 'templates', 'c++20', 'c++-concepts', 'member-functions'], 'owner': {'account_id': 1155130, 'reputation': 2048, 'user_id': 1135950, 'user_type': 'registered', 'accept_rate': 64, 'profile_image': 'https://www.gravatar.com/avatar/9edd6f4e304ecf1c39f2902909c442f1?s=256&d=identicon&r=PG&f=y&so-version=2', 'display_name': 'yonutix', 'link': 'https://stackoverflow.com/users/1135950/yonutix'}, 'is_answered': True, 'view_count': 65, 'answer_count': 2, 'score': 3, 'last_activity_date': 1695736202, 'creation_date': 1695733713, 'last_edit_date': 1695735180, 'question_id': 77180317, 'content_license': 'CC BY-SA 4.0', 'link': 'https://stackoverflow.com/questions/77180317/how-can-you-enable-a-class-template-member-function-only-if-a-template-argument', 'title': 'How can you enable a class template member function only if a template argument was provided?'}, {'tags': ['javascript', 'windows', 'typescript', 'compiler-errors'], 'owner': {'account_id': 2249847, 'reputation': 2525, 'user_id': 1982313, 'user_type': 'registered', 'accept_rate': 83, 'profile_image': 'https://www.gravatar.com/avatar/29395aeca39e6923dbb698b47f324243?s=256&d=identicon&r=PG&f=y&so-version=2', 'display_name': 'zuddsy', 'link': 'https://stackoverflow.com/users/1982313/zuddsy'}, 'is_answered': True, 'view_count': 195975, 'protected_date': 1620558909, 'accepted_answer_id': 51213274, 'answer_count': 31, 'score': 221, 'last_activity_date': 1695736198, 'creation_date': 1530816009, 'question_id': 51197940, 'content_license': 'CC BY-SA 4.0', 'link': 'https://stackoverflow.com/questions/51197940/file-name-differs-from-already-included-file-name-only-in-casing-on-relative-p', 'title': '&#39;File name differs from already included file name only in casing&#39; on relative path with same casing'}, {'tags': ['arkit', 'fragment-shader', 'realitykit'], 'owner': {'account_id': 28010971, 'reputation': 63, 'user_id': 21393506, 'user_type': 'registered', 'profile_image': 'https://lh3.googleusercontent.com/a/AGNmyxbycIJ5QT9kCL1s4Z4a8K437xvWN2P8hdmt4duL=k-s256', 'display_name': 'foolinaroundz', 'link': 'https://stackoverflow.com/users/21393506/foolinaroundz'}, 'is_answered': False, 'view_count': 27, 'answer_count': 1, 'score': 0, 'last_activity_date': 1695736188, 'creation_date': 1695414177, 'question_id': 77160476, 'content_license': 'CC BY-SA 4.0', 'link': 'https://stackoverflow.com/questions/77160476/physicallybasedmaterial-always-render-specular-shine', 'title': 'PhysicallyBasedMaterial always render specular/shine'}, {'tags': ['java', 'collections', 'concurrency', 'iterator', 'copyonwritearraylist'], 'owner': {'account_id': 179063, 'reputation': 12213, 'user_id': 411449, 'user_type': 'registered', 'accept_rate': 63, 'profile_image': 'https://www.gravatar.com/avatar/798ce620514f0e9eb191be9599855a7f?s=256&d=identicon&r=PG', 'display_name': 'skip', 'link': 'https://stackoverflow.com/users/411449/skip'}, 'is_answered': True, 'view_count': 1935, 'accepted_answer_id': 52467684, 'answer_count': 2, 'score': 3, 'last_activity_date': 1695736183, 'creation_date': 1537717039, 'last_edit_date': 1537824626, 'question_id': 52467653, 'content_license': 'CC BY-SA 4.0', 'link': 'https://stackoverflow.com/questions/52467653/unsupportedoperationexception-while-iterating-over-copyonwritearraylist', 'title': 'UnsupportedOperationException while iterating over CopyOnWriteArrayList'}, {'tags': ['node.js', 'docker', 'apple-m1', 'qemu', 'apple-silicon'], 'owner': {'account_id': 350540, 'reputation': 5511, 'user_id': 686490, 'user_type': 'registered', 'accept_rate': 73, 'profile_image': 'https://www.gravatar.com/avatar/f5dbe87a58e060f6ce8be0a3e6caea85?s=256&d=identicon&r=PG&f=y&so-version=2', 'display_name': 'S..', 'link': 'https://stackoverflow.com/users/686490/s'}, 'is_answered': True, 'view_count': 2026, 'accepted_answer_id': 74556280, 'answer_count': 2, 'score': 0, 'last_activity_date': 1695736176, 'creation_date': 1669270013, 'question_id': 74556279, 'content_license': 'CC BY-SA 4.0', 'link': 'https://stackoverflow.com/questions/74556279/qemu-uncaught-target-signal-11-segmentation-fault-core-dumped-in-docker-con', 'title': 'qemu: uncaught target signal 11 (Segmentation fault) - core dumped in docker container after changing to an M1 mac'}, {'tags': ['c#', 'linq'], 'owner': {'account_id': 4958610, 'reputation': 537, 'user_id': 3990513, 'user_type': 'registered', 'accept_rate': 70, 'profile_image': 'https://graph.facebook.com/1334874792/picture?type=large', 'display_name': 'Eli', 'link': 'https://stackoverflow.com/users/3990513/eli'}, 'is_answered': False, 'view_count': 2, 'answer_count': 0, 'score': 0, 'last_activity_date': 1695736169, 'creation_date': 1695736169, 'question_id': 77180642, 'content_license': 'CC BY-SA 4.0', 'link': 'https://stackoverflow.com/questions/77180642/sort-list-of-times-no-dates', 'title': 'Sort List of Times (no dates)'}, {'tags': ['python'], 'owner': {'account_id': 29531454, 'reputation': 1, 'user_id': 22632003, 'user_type': 'registered', 'profile_image': 'https://www.gravatar.com/avatar/21c920c87f86becf1deb5f538fe046e4?s=256&d=identicon&r=PG&f=y&so-version=2', 'display_name': 'Lmn', 'link': 'https://stackoverflow.com/users/22632003/lmn'}, 'is_answered': False, 'view_count': 88, 'answer_count': 6, 'score': 0, 'last_activity_date': 1695736168, 'creation_date': 1695658760, 'last_edit_date': 1695658903, 'question_id': 77174281, 'content_license': 'CC BY-SA 4.0', 'link': 'https://stackoverflow.com/questions/77174281/finding-the-most-prevalent-alphabet-in-a-string', 'title': 'Finding the most prevalent alphabet in a string'}, {'tags': ['r'], 'owner': {'account_id': 28176617, 'reputation': 3, 'user_id': 21534299, 'user_type': 'registered', 'profile_image': 'https://lh3.googleusercontent.com/a/AGNmyxYDnU4mbIqsm3MzT_PW7dk09U3D74RXFDUEjXSy=k-s256', 'display_name': 'Dimitris Zisis', 'link': 'https://stackoverflow.com/users/21534299/dimitris-zisis'}, 'is_answered': False, 'view_count': 10, 'answer_count': 0, 'score': 0, 'last_activity_date': 1695736166, 'creation_date': 1695736039, 'last_edit_date': 1695736166, 'question_id': 77180625, 'content_license': 'CC BY-SA 4.0', 'link': 'https://stackoverflow.com/questions/77180625/combine-different-columns-pattern-of-string-to-a-new-column-in-r', 'title': 'Combine different columns pattern of string to a new column in R'}, {'tags': ['javascript', 'node.js', 'ecmascript-6', 'environment-variables'], 'owner': {'account_id': 12587763, 'reputation': 1398, 'user_id': 9155889, 'user_type': 'registered', 'profile_image': 'https://i.stack.imgur.com/a7Efv.jpg?s=256&g=1', 'display_name': 'nonNumericalFloat', 'link': 'https://stackoverflow.com/users/9155889/nonnumericalfloat'}, 'is_answered': False, 'view_count': 15, 'answer_count': 1, 'score': 0, 'last_activity_date': 1695736161, 'creation_date': 1695734115, 'last_edit_date': 1695736161, 'question_id': 77180360, 'content_license': 'CC BY-SA 4.0', 'link': 'https://stackoverflow.com/questions/77180360/using-a-node-env-variable-as-a-default-method-parameter', 'title': 'Using a Node ENV Variable as a default method parameter'}, {'tags': ['javascript', 'node.js', 'reactjs'], 'owner': {'account_id': 29539026, 'reputation': 1, 'user_id': 22638094, 'user_type': 'registered', 'profile_image': 'https://lh3.googleusercontent.com/a/ACg8ocILGCbmpiDlafY-MQarB_nqeGyyyZ_Kktm6DLlu4CCx=k-s256', 'display_name': 'Aaron Blauth', 'link': 'https://stackoverflow.com/users/22638094/aaron-blauth'}, 'is_answered': False, 'view_count': 10, 'answer_count': 0, 'score': 0, 'last_activity_date': 1695736150, 'creation_date': 1695735894, 'last_edit_date': 1695736150, 'question_id': 77180610, 'content_license': 'CC BY-SA 4.0', 'link': 'https://stackoverflow.com/questions/77180610/change-scrollbar-color-depending-on-backgroundcolor-next-to-it', 'title': 'Change Scrollbar Color depending on backgroundcolor next to it'}, {'tags': ['apache-spark', 'pyspark'], 'owner': {'account_id': 7092607, 'reputation': 488, 'user_id': 5427344, 'user_type': 'registered', 'accept_rate': 80, 'profile_image': 'https://www.gravatar.com/avatar/4805c63d6cb4224eadf2edbe0f3d7df2?s=256&d=identicon&r=PG&f=y&so-version=2', 'display_name': 'user453575457', 'link': 'https://stackoverflow.com/users/5427344/user453575457'}, 'is_answered': False, 'view_count': 13, 'answer_count': 1, 'score': 1, 'last_activity_date': 1695736148, 'creation_date': 1695734758, 'question_id': 77180458, 'content_license': 'CC BY-SA 4.0', 'link': 'https://stackoverflow.com/questions/77180458/how-to-join-two-tables-with-aggreagation', 'title': 'How to join two tables with aggreagation'}, {'tags': ['c++', 'c++20', 'c++23'], 'owner': {'account_id': 8960847, 'reputation': 579, 'user_id': 6683567, 'user_type': 'registered', 'accept_rate': 0, 'profile_image': 'https://www.gravatar.com/avatar/1ecaacbce866a1d9f78a0b3f9a47a916?s=256&d=identicon&r=PG&f=y&so-version=2', 'display_name': 'Antonio', 'link': 'https://stackoverflow.com/users/6683567/antonio'}, 'is_answered': True, 'view_count': 39, 'answer_count': 1, 'score': 0, 'last_activity_date': 1695736142, 'creation_date': 1695735185, 'question_id': 77180513, 'content_license': 'CC BY-SA 4.0', 'link': 'https://stackoverflow.com/questions/77180513/something-wrong-with-c-standard-or-most-probably-that-i-dont-understand-engl', 'title': 'Something wrong with C++ standard (or most probably that I don&#39;t understand english well)'}, {'tags': ['r', 'function', 'if-statement', 'error-handling'], 'owner': {'account_id': 14479774, 'reputation': 639, 'user_id': 10459366, 'user_type': 'registered', 'profile_image': 'https://www.gravatar.com/avatar/597c7f38e2e49f8e239adedcec997894?s=256&d=identicon&r=PG&f=y&so-version=2', 'display_name': 'Andrea', 'link': 'https://stackoverflow.com/users/10459366/andrea'}, 'is_answered': False, 'view_count': 14, 'answer_count': 1, 'score': 0, 'last_activity_date': 1695736134, 'creation_date': 1695735614, 'last_edit_date': 1695736033, 'question_id': 77180574, 'content_license': 'CC BY-SA 4.0', 'link': 'https://stackoverflow.com/questions/77180574/r-function-missing-input-specific-error-code-generation', 'title': 'R function missing input specific error code generation'}, {'tags': ['node.js', 'whatsapp-cloud-api'], 'owner': {'account_id': 28411268, 'reputation': 1, 'user_id': 21734639, 'user_type': 'registered', 'profile_image': 'https://i.stack.imgur.com/t0jT5.png?s=256&g=1', 'display_name': 'Shahzad Malik', 'link': 'https://stackoverflow.com/users/21734639/shahzad-malik'}, 'is_answered': False, 'view_count': 36, 'answer_count': 1, 'score': 0, 'last_activity_date': 1695736130, 'creation_date': 1692014312, 'last_edit_date': 1692017214, 'question_id': 76898751, 'content_license': 'CC BY-SA 4.0', 'link': 'https://stackoverflow.com/questions/76898751/how-to-find-app-secret-for-whatsapp-business-api', 'title': 'How to find app_secret for whatsapp business api'}, {'tags': ['python', 'selenium-chromedriver', 'knime'], 'owner': {'account_id': 29452203, 'reputation': 13, 'user_id': 22568611, 'user_type': 'registered', 'profile_image': 'https://lh3.googleusercontent.com/a/ACg8ocJZVp4ToPImIenGPgoEvTp241kW712PgBVbueTR-XZV=k-s256', 'display_name': 'Gabriel Beran Ribeiro', 'link': 'https://stackoverflow.com/users/22568611/gabriel-beran-ribeiro'}, 'is_answered': False, 'view_count': 4, 'answer_count': 0, 'score': 0, 'last_activity_date': 1695736127, 'creation_date': 1695736127, 'question_id': 77180637, 'content_license': 'CC BY-SA 4.0', 'link': 'https://stackoverflow.com/questions/77180637/errors-when-runing-a-python-code-containing-selenium-in-knime', 'title': 'Errors when runing a Python code containing Selenium in KNIME'}, {'tags': ['python', 'pandas', 'dataframe', 'csv'], 'owner': {'account_id': 18409024, 'reputation': 143, 'user_id': 13409869, 'user_type': 'registered', 'profile_image': 'https://lh3.googleusercontent.com/a-/AOh14GiAm31OlIL0hDxoM0-Aqe2EAJlXHz6r96ZagLVrfg=k-s256', 'display_name': 'macder', 'link': 'https://stackoverflow.com/users/13409869/macder'}, 'is_answered': False, 'view_count': 6, 'answer_count': 0, 'score': 0, 'last_activity_date': 1695736123, 'creation_date': 1695736123, 'question_id': 77180636, 'content_license': 'CC BY-SA 4.0', 'link': 'https://stackoverflow.com/questions/77180636/python-pandas-dataframe-transfer-data-from-dictionary-to-a-right-cell', 'title': 'Python pandas DataFrame: Transfer data from dictionary to a right cell'}, {'tags': ['javascript', 'error-handling', 'ejs', 'middleware'], 'owner': {'account_id': 29538859, 'reputation': 1, 'user_id': 22637963, 'user_type': 'registered', 'profile_image': 'https://lh3.googleusercontent.com/a/ACg8ocIveeLqe0wlC3H-OQNAfcxWhuBfGcDlwXlrKzdXMHy6Uclx=k-s256', 'display_name': 'Miriam Sparbrod', 'link': 'https://stackoverflow.com/users/22637963/miriam-sparbrod'}, 'is_answered': False, 'view_count': 5, 'answer_count': 0, 'score': 0, 'last_activity_date': 1695736122, 'creation_date': 1695735032, 'last_edit_date': 1695736122, 'question_id': 77180491, 'content_license': 'CC BY-SA 4.0', 'link': 'https://stackoverflow.com/questions/77180491/seeking-guidance-on-error-handling-and-routing', 'title': 'Seeking Guidance on Error Handling and Routing'}, {'tags': ['c', 'micro-optimization', 'signed-integer'], 'owner': {'account_id': 1129901, 'reputation': 9911, 'user_id': 1132871, 'user_type': 'registered', 'accept_rate': 76, 'profile_image': 'https://i.stack.imgur.com/IO6V2.jpg?s=256&g=1', 'display_name': 'Alex', 'link': 'https://stackoverflow.com/users/1132871/alex'}, 'is_answered': True, 'view_count': 31240, 'accepted_answer_id': 14612943, 'answer_count': 6, 'score': 17, 'last_activity_date': 1695736121, 'creation_date': 1359452860, 'last_edit_date': 1683927654, 'question_id': 14579920, 'content_license': 'CC BY-SA 4.0', 'link': 'https://stackoverflow.com/questions/14579920/fast-sign-of-integer-in-c', 'title': 'Fast sign of integer in C'}, {'tags': ['javascript', 'dynamics-crm', 'powerapps', 'dataverse', 'powerapps-modeldriven'], 'owner': {'account_id': 29537388, 'reputation': 1, 'user_id': 22636762, 'user_type': 'registered', 'profile_image': 'https://www.gravatar.com/avatar/4a27c13052c054a574e2442d3d43536f?s=256&d=identicon&r=PG&f=y&so-version=2', 'display_name': 'LostMary', 'link': 'https://stackoverflow.com/users/22636762/lostmary'}, 'is_answered': False, 'view_count': 7, 'answer_count': 1, 'score': 0, 'last_activity_date': 1695736121, 'creation_date': 1695722792, 'question_id': 77178984, 'content_license': 'CC BY-SA 4.0', 'link': 'https://stackoverflow.com/questions/77178984/dataverse-xrm-is-there-a-way-to-hide-fields-in-a-form-if-a-choice-field-is-set', 'title': 'Dataverse XRM: Is there a way to hide fields in a Form if a choice field is set to 0 (No)?'}, {'tags': ['swift', 'metal', 'mtkview'], 'owner': {'account_id': 15626859, 'reputation': 155, 'user_id': 11274269, 'user_type': 'registered', 'profile_image': 'https://www.gravatar.com/avatar/5c6bdfec6fda7ef86ef0a6740d010051?s=256&d=identicon&r=PG&f=y&so-version=2', 'display_name': 'zakray', 'link': 'https://stackoverflow.com/users/11274269/zakray'}, 'is_answered': False, 'view_count': 24, 'answer_count': 0, 'score': 0, 'last_activity_date': 1695736115, 'creation_date': 1695653216, 'last_edit_date': 1695736115, 'question_id': 77173686, 'content_license': 'CC BY-SA 4.0', 'link': 'https://stackoverflow.com/questions/77173686/camera-app-lags-after-switching-from-avcapturevideopreviewlayer-to-mtkview', 'title': 'Camera app lags after switching from AVCaptureVideoPreviewLayer to MTKView'}, {'tags': ['css', 'css-selectors', 'elementor', 'inspector'], 'owner': {'account_id': 29537925, 'reputation': 11, 'user_id': 22637201, 'user_type': 'registered', 'profile_image': 'https://lh3.googleusercontent.com/a/ACg8ocJk4Cj7FmjpLD2oB9ggG3g6EseIrlbRqu5ESOqsjA2F=k-s256', 'display_name': 'Elroy van Akkeren', 'link': 'https://stackoverflow.com/users/22637201/elroy-van-akkeren'}, 'is_answered': False, 'view_count': 30, 'answer_count': 3, 'score': 0, 'last_activity_date': 1695736098, 'creation_date': 1695729480, 'last_edit_date': 1695735794, 'question_id': 77179799, 'content_license': 'CC BY-SA 4.0', 'link': 'https://stackoverflow.com/questions/77179799/css-doenst-seem-to-work-using-google-inspect', 'title': 'CSS doenst seem to work using google inspect'}, {'tags': ['c#', 'uitextfield'], 'owner': {'account_id': 28165213, 'reputation': 1, 'user_id': 21524498, 'user_type': 'registered', 'profile_image': 'https://i.stack.imgur.com/28Lb2.jpg?s=256&g=1', 'display_name': 'MCotuna', 'link': 'https://stackoverflow.com/users/21524498/mcotuna'}, 'is_answered': False, 'view_count': 3, 'answer_count': 0, 'score': 0, 'last_activity_date': 1695736089, 'creation_date': 1695736089, 'question_id': 77180633, 'content_license': 'CC BY-SA 4.0', 'link': 'https://stackoverflow.com/questions/77180633/rescale-all-in-text-ui-at-runtime-via-a-settings-menu', 'title': 'Rescale all in-text UI at runtime via a settings menu'}, {'tags': ['jenkins-pipeline', 'jenkins-blueocean'], 'owner': {'account_id': 29487809, 'reputation': 1, 'user_id': 22597335, 'user_type': 'registered', 'profile_image': 'https://www.gravatar.com/avatar/2ba6ea1e2d053560fbe6c3a4c7514a4b?s=256&d=identicon&r=PG&f=y&so-version=2', 'display_name': 'ramya', 'link': 'https://stackoverflow.com/users/22597335/ramya'}, 'is_answered': False, 'view_count': 3, 'answer_count': 0, 'score': 0, 'last_activity_date': 1695736084, 'creation_date': 1695736084, 'question_id': 77180632, 'content_license': 'CC BY-SA 4.0', 'link': 'https://stackoverflow.com/questions/77180632/how-to-hide-the-shell-script-in-blue-ocean-page-in-jenkins', 'title': 'How to hide the shell script in Blue Ocean page in Jenkins'}, {'tags': ['sql'], 'owner': {'account_id': 16348164, 'reputation': 1, 'user_id': 11807386, 'user_type': 'registered', 'profile_image': 'https://www.gravatar.com/avatar/5e1efa8fd3c66711a72217a70d11e0f3?s=256&d=identicon&r=PG&f=y&so-version=2', 'display_name': 'Poisson', 'link': 'https://stackoverflow.com/users/11807386/poisson'}, 'is_answered': False, 'view_count': 5, 'answer_count': 0, 'score': 0, 'last_activity_date': 1695736083, 'creation_date': 1695736083, 'question_id': 77180631, 'content_license': 'CC BY-SA 4.0', 'link': 'https://stackoverflow.com/questions/77180631/creating-a-rolling-metric-in-sql', 'title': 'Creating a Rolling metric in SQL'}, {'tags': ['c#', 'xamarin.forms', 'android-sdk-tools', 'amd-processor', 'android-sdk-manager'], 'owner': {'account_id': 23957563, 'reputation': 1, 'user_id': 17948207, 'user_type': 'registered', 'profile_image': 'https://lh3.googleusercontent.com/a-/AOh14GhGpD_FMXmBrUPtbphqYZnElDGJsgUClA7aWxcp=k-s256', 'display_name': 'LAXStudios', 'link': 'https://stackoverflow.com/users/17948207/laxstudios'}, 'is_answered': True, 'view_count': 165, 'accepted_answer_id': 71172142, 'answer_count': 2, 'score': -1, 'last_activity_date': 1695736078, 'creation_date': 1642350312, 'last_edit_date': 1695736078, 'question_id': 70731938, 'content_license': 'CC BY-SA 4.0', 'link': 'https://stackoverflow.com/questions/70731938/visualstudio2019-sdk-android-manager-dosnt-start-instead-giveng-warning-ger%c3%a4te', 'title': 'VisualStudio2019 SDK Android Manager dosnt Start, instead giveng Warning: Ger&#228;tefehler: value (&#39;emu.uuid=c1d2555f-5c69-44bc-ae95-56d2f66aaac1&#39;), onl'}, {'tags': ['mariadb', 'subquery'], 'owner': {'account_id': 13302313, 'reputation': 875, 'user_id': 9603417, 'user_type': 'registered', 'profile_image': 'https://i.stack.imgur.com/aJfoP.png?s=256&g=1', 'display_name': 'Paul-Marie', 'link': 'https://stackoverflow.com/users/9603417/paul-marie'}, 'is_answered': False, 'view_count': 7, 'answer_count': 0, 'score': 0, 'last_activity_date': 1695736075, 'creation_date': 1695736075, 'question_id': 77180630, 'content_license': 'CC BY-SA 4.0', 'link': 'https://stackoverflow.com/questions/77180630/how-to-ignore-subquery-result-if-its-empty', 'title': 'How to ignore subquery result if it&#39;s empty'}, {'tags': ['linux', 'systemd'], 'owner': {'account_id': 6846374, 'reputation': 1147, 'user_id': 5275810, 'user_type': 'registered', 'accept_rate': 20, 'profile_image': 'https://www.gravatar.com/avatar/8130993d9eefde847f944d9ee1f02160?s=256&d=identicon&r=PG&f=y&so-version=2', 'display_name': 'anikhan', 'link': 'https://stackoverflow.com/users/5275810/anikhan'}, 'is_answered': False, 'view_count': 1719, 'answer_count': 2, 'score': -2, 'last_activity_date': 1695736070, 'creation_date': 1517909839, 'last_edit_date': 1517909966, 'question_id': 48639764, 'content_license': 'CC BY-SA 3.0', 'link': 'https://stackoverflow.com/questions/48639764/systemd-service-description-in-dmesg', 'title': 'systemd service description in dmesg'}], 'has_more': True, 'quota_max': 300, 'quota_remaining': 286}\n"
     ]
    }
   ],
   "source": [
    "print(response.json())"
   ]
  },
  {
   "cell_type": "code",
   "execution_count": 10,
   "id": "21c98cc4",
   "metadata": {},
   "outputs": [
    {
     "name": "stdout",
     "output_type": "stream",
     "text": [
      "[{'tags': ['graphics', 'virtual-machine', 'bios', 'amd-gpu', 'motherboard'], 'owner': {'account_id': 6627351, 'reputation': 315, 'user_id': 5563324, 'user_type': 'registered', 'accept_rate': 50, 'profile_image': 'https://i.stack.imgur.com/VFAB9.png?s=256&g=1', 'display_name': 'misaligar', 'link': 'https://stackoverflow.com/users/5563324/misaligar'}, 'is_answered': False, 'view_count': 44, 'answer_count': 0, 'score': 0, 'last_activity_date': 1695736215, 'creation_date': 1689427308, 'last_edit_date': 1695736215, 'question_id': 76693949, 'content_license': 'CC BY-SA 4.0', 'link': 'https://stackoverflow.com/questions/76693949/enabling-virtualization-svm-mode-causing-amd-7900x-graphics-driver-to-fail', 'title': 'Enabling Virtualization (SVM Mode) Causing AMD 7900x Graphics Driver to Fail'}, {'tags': ['django'], 'owner': {'account_id': 16089569, 'reputation': 21, 'user_id': 11613348, 'user_type': 'registered', 'profile_image': 'https://www.gravatar.com/avatar/97369cbffcf50b4f96c7e0bd8b6cb66f?s=256&d=identicon&r=PG&f=y&so-version=2', 'display_name': 'guil182', 'link': 'https://stackoverflow.com/users/11613348/guil182'}, 'is_answered': False, 'view_count': 27, 'answer_count': 3, 'score': 0, 'last_activity_date': 1695736207, 'creation_date': 1695394976, 'question_id': 77158777, 'content_license': 'CC BY-SA 4.0', 'link': 'https://stackoverflow.com/questions/77158777/django-table2-reverse-manytomany', 'title': 'Django Table2 reverse ManyTomany'}, {'tags': ['typescript'], 'owner': {'account_id': 28918095, 'reputation': 23, 'user_id': 22149637, 'user_type': 'registered', 'profile_image': 'https://www.gravatar.com/avatar/d550ed5a13b5fb72172c1833605088fe?s=256&d=identicon&r=PG&f=y&so-version=2', 'display_name': 'Anya', 'link': 'https://stackoverflow.com/users/22149637/anya'}, 'is_answered': False, 'view_count': 20, 'answer_count': 2, 'score': 0, 'last_activity_date': 1695736202, 'creation_date': 1695733025, 'question_id': 77180240, 'content_license': 'CC BY-SA 4.0', 'link': 'https://stackoverflow.com/questions/77180240/define-union-type-from-typed-list', 'title': 'Define union type from typed list'}, {'tags': ['c++', 'templates', 'c++20', 'c++-concepts', 'member-functions'], 'owner': {'account_id': 1155130, 'reputation': 2048, 'user_id': 1135950, 'user_type': 'registered', 'accept_rate': 64, 'profile_image': 'https://www.gravatar.com/avatar/9edd6f4e304ecf1c39f2902909c442f1?s=256&d=identicon&r=PG&f=y&so-version=2', 'display_name': 'yonutix', 'link': 'https://stackoverflow.com/users/1135950/yonutix'}, 'is_answered': True, 'view_count': 65, 'answer_count': 2, 'score': 3, 'last_activity_date': 1695736202, 'creation_date': 1695733713, 'last_edit_date': 1695735180, 'question_id': 77180317, 'content_license': 'CC BY-SA 4.0', 'link': 'https://stackoverflow.com/questions/77180317/how-can-you-enable-a-class-template-member-function-only-if-a-template-argument', 'title': 'How can you enable a class template member function only if a template argument was provided?'}, {'tags': ['javascript', 'windows', 'typescript', 'compiler-errors'], 'owner': {'account_id': 2249847, 'reputation': 2525, 'user_id': 1982313, 'user_type': 'registered', 'accept_rate': 83, 'profile_image': 'https://www.gravatar.com/avatar/29395aeca39e6923dbb698b47f324243?s=256&d=identicon&r=PG&f=y&so-version=2', 'display_name': 'zuddsy', 'link': 'https://stackoverflow.com/users/1982313/zuddsy'}, 'is_answered': True, 'view_count': 195975, 'protected_date': 1620558909, 'accepted_answer_id': 51213274, 'answer_count': 31, 'score': 221, 'last_activity_date': 1695736198, 'creation_date': 1530816009, 'question_id': 51197940, 'content_license': 'CC BY-SA 4.0', 'link': 'https://stackoverflow.com/questions/51197940/file-name-differs-from-already-included-file-name-only-in-casing-on-relative-p', 'title': '&#39;File name differs from already included file name only in casing&#39; on relative path with same casing'}, {'tags': ['arkit', 'fragment-shader', 'realitykit'], 'owner': {'account_id': 28010971, 'reputation': 63, 'user_id': 21393506, 'user_type': 'registered', 'profile_image': 'https://lh3.googleusercontent.com/a/AGNmyxbycIJ5QT9kCL1s4Z4a8K437xvWN2P8hdmt4duL=k-s256', 'display_name': 'foolinaroundz', 'link': 'https://stackoverflow.com/users/21393506/foolinaroundz'}, 'is_answered': False, 'view_count': 27, 'answer_count': 1, 'score': 0, 'last_activity_date': 1695736188, 'creation_date': 1695414177, 'question_id': 77160476, 'content_license': 'CC BY-SA 4.0', 'link': 'https://stackoverflow.com/questions/77160476/physicallybasedmaterial-always-render-specular-shine', 'title': 'PhysicallyBasedMaterial always render specular/shine'}, {'tags': ['java', 'collections', 'concurrency', 'iterator', 'copyonwritearraylist'], 'owner': {'account_id': 179063, 'reputation': 12213, 'user_id': 411449, 'user_type': 'registered', 'accept_rate': 63, 'profile_image': 'https://www.gravatar.com/avatar/798ce620514f0e9eb191be9599855a7f?s=256&d=identicon&r=PG', 'display_name': 'skip', 'link': 'https://stackoverflow.com/users/411449/skip'}, 'is_answered': True, 'view_count': 1935, 'accepted_answer_id': 52467684, 'answer_count': 2, 'score': 3, 'last_activity_date': 1695736183, 'creation_date': 1537717039, 'last_edit_date': 1537824626, 'question_id': 52467653, 'content_license': 'CC BY-SA 4.0', 'link': 'https://stackoverflow.com/questions/52467653/unsupportedoperationexception-while-iterating-over-copyonwritearraylist', 'title': 'UnsupportedOperationException while iterating over CopyOnWriteArrayList'}, {'tags': ['node.js', 'docker', 'apple-m1', 'qemu', 'apple-silicon'], 'owner': {'account_id': 350540, 'reputation': 5511, 'user_id': 686490, 'user_type': 'registered', 'accept_rate': 73, 'profile_image': 'https://www.gravatar.com/avatar/f5dbe87a58e060f6ce8be0a3e6caea85?s=256&d=identicon&r=PG&f=y&so-version=2', 'display_name': 'S..', 'link': 'https://stackoverflow.com/users/686490/s'}, 'is_answered': True, 'view_count': 2026, 'accepted_answer_id': 74556280, 'answer_count': 2, 'score': 0, 'last_activity_date': 1695736176, 'creation_date': 1669270013, 'question_id': 74556279, 'content_license': 'CC BY-SA 4.0', 'link': 'https://stackoverflow.com/questions/74556279/qemu-uncaught-target-signal-11-segmentation-fault-core-dumped-in-docker-con', 'title': 'qemu: uncaught target signal 11 (Segmentation fault) - core dumped in docker container after changing to an M1 mac'}, {'tags': ['c#', 'linq'], 'owner': {'account_id': 4958610, 'reputation': 537, 'user_id': 3990513, 'user_type': 'registered', 'accept_rate': 70, 'profile_image': 'https://graph.facebook.com/1334874792/picture?type=large', 'display_name': 'Eli', 'link': 'https://stackoverflow.com/users/3990513/eli'}, 'is_answered': False, 'view_count': 2, 'answer_count': 0, 'score': 0, 'last_activity_date': 1695736169, 'creation_date': 1695736169, 'question_id': 77180642, 'content_license': 'CC BY-SA 4.0', 'link': 'https://stackoverflow.com/questions/77180642/sort-list-of-times-no-dates', 'title': 'Sort List of Times (no dates)'}, {'tags': ['python'], 'owner': {'account_id': 29531454, 'reputation': 1, 'user_id': 22632003, 'user_type': 'registered', 'profile_image': 'https://www.gravatar.com/avatar/21c920c87f86becf1deb5f538fe046e4?s=256&d=identicon&r=PG&f=y&so-version=2', 'display_name': 'Lmn', 'link': 'https://stackoverflow.com/users/22632003/lmn'}, 'is_answered': False, 'view_count': 88, 'answer_count': 6, 'score': 0, 'last_activity_date': 1695736168, 'creation_date': 1695658760, 'last_edit_date': 1695658903, 'question_id': 77174281, 'content_license': 'CC BY-SA 4.0', 'link': 'https://stackoverflow.com/questions/77174281/finding-the-most-prevalent-alphabet-in-a-string', 'title': 'Finding the most prevalent alphabet in a string'}, {'tags': ['r'], 'owner': {'account_id': 28176617, 'reputation': 3, 'user_id': 21534299, 'user_type': 'registered', 'profile_image': 'https://lh3.googleusercontent.com/a/AGNmyxYDnU4mbIqsm3MzT_PW7dk09U3D74RXFDUEjXSy=k-s256', 'display_name': 'Dimitris Zisis', 'link': 'https://stackoverflow.com/users/21534299/dimitris-zisis'}, 'is_answered': False, 'view_count': 10, 'answer_count': 0, 'score': 0, 'last_activity_date': 1695736166, 'creation_date': 1695736039, 'last_edit_date': 1695736166, 'question_id': 77180625, 'content_license': 'CC BY-SA 4.0', 'link': 'https://stackoverflow.com/questions/77180625/combine-different-columns-pattern-of-string-to-a-new-column-in-r', 'title': 'Combine different columns pattern of string to a new column in R'}, {'tags': ['javascript', 'node.js', 'ecmascript-6', 'environment-variables'], 'owner': {'account_id': 12587763, 'reputation': 1398, 'user_id': 9155889, 'user_type': 'registered', 'profile_image': 'https://i.stack.imgur.com/a7Efv.jpg?s=256&g=1', 'display_name': 'nonNumericalFloat', 'link': 'https://stackoverflow.com/users/9155889/nonnumericalfloat'}, 'is_answered': False, 'view_count': 15, 'answer_count': 1, 'score': 0, 'last_activity_date': 1695736161, 'creation_date': 1695734115, 'last_edit_date': 1695736161, 'question_id': 77180360, 'content_license': 'CC BY-SA 4.0', 'link': 'https://stackoverflow.com/questions/77180360/using-a-node-env-variable-as-a-default-method-parameter', 'title': 'Using a Node ENV Variable as a default method parameter'}, {'tags': ['javascript', 'node.js', 'reactjs'], 'owner': {'account_id': 29539026, 'reputation': 1, 'user_id': 22638094, 'user_type': 'registered', 'profile_image': 'https://lh3.googleusercontent.com/a/ACg8ocILGCbmpiDlafY-MQarB_nqeGyyyZ_Kktm6DLlu4CCx=k-s256', 'display_name': 'Aaron Blauth', 'link': 'https://stackoverflow.com/users/22638094/aaron-blauth'}, 'is_answered': False, 'view_count': 10, 'answer_count': 0, 'score': 0, 'last_activity_date': 1695736150, 'creation_date': 1695735894, 'last_edit_date': 1695736150, 'question_id': 77180610, 'content_license': 'CC BY-SA 4.0', 'link': 'https://stackoverflow.com/questions/77180610/change-scrollbar-color-depending-on-backgroundcolor-next-to-it', 'title': 'Change Scrollbar Color depending on backgroundcolor next to it'}, {'tags': ['apache-spark', 'pyspark'], 'owner': {'account_id': 7092607, 'reputation': 488, 'user_id': 5427344, 'user_type': 'registered', 'accept_rate': 80, 'profile_image': 'https://www.gravatar.com/avatar/4805c63d6cb4224eadf2edbe0f3d7df2?s=256&d=identicon&r=PG&f=y&so-version=2', 'display_name': 'user453575457', 'link': 'https://stackoverflow.com/users/5427344/user453575457'}, 'is_answered': False, 'view_count': 13, 'answer_count': 1, 'score': 1, 'last_activity_date': 1695736148, 'creation_date': 1695734758, 'question_id': 77180458, 'content_license': 'CC BY-SA 4.0', 'link': 'https://stackoverflow.com/questions/77180458/how-to-join-two-tables-with-aggreagation', 'title': 'How to join two tables with aggreagation'}, {'tags': ['c++', 'c++20', 'c++23'], 'owner': {'account_id': 8960847, 'reputation': 579, 'user_id': 6683567, 'user_type': 'registered', 'accept_rate': 0, 'profile_image': 'https://www.gravatar.com/avatar/1ecaacbce866a1d9f78a0b3f9a47a916?s=256&d=identicon&r=PG&f=y&so-version=2', 'display_name': 'Antonio', 'link': 'https://stackoverflow.com/users/6683567/antonio'}, 'is_answered': True, 'view_count': 39, 'answer_count': 1, 'score': 0, 'last_activity_date': 1695736142, 'creation_date': 1695735185, 'question_id': 77180513, 'content_license': 'CC BY-SA 4.0', 'link': 'https://stackoverflow.com/questions/77180513/something-wrong-with-c-standard-or-most-probably-that-i-dont-understand-engl', 'title': 'Something wrong with C++ standard (or most probably that I don&#39;t understand english well)'}, {'tags': ['r', 'function', 'if-statement', 'error-handling'], 'owner': {'account_id': 14479774, 'reputation': 639, 'user_id': 10459366, 'user_type': 'registered', 'profile_image': 'https://www.gravatar.com/avatar/597c7f38e2e49f8e239adedcec997894?s=256&d=identicon&r=PG&f=y&so-version=2', 'display_name': 'Andrea', 'link': 'https://stackoverflow.com/users/10459366/andrea'}, 'is_answered': False, 'view_count': 14, 'answer_count': 1, 'score': 0, 'last_activity_date': 1695736134, 'creation_date': 1695735614, 'last_edit_date': 1695736033, 'question_id': 77180574, 'content_license': 'CC BY-SA 4.0', 'link': 'https://stackoverflow.com/questions/77180574/r-function-missing-input-specific-error-code-generation', 'title': 'R function missing input specific error code generation'}, {'tags': ['node.js', 'whatsapp-cloud-api'], 'owner': {'account_id': 28411268, 'reputation': 1, 'user_id': 21734639, 'user_type': 'registered', 'profile_image': 'https://i.stack.imgur.com/t0jT5.png?s=256&g=1', 'display_name': 'Shahzad Malik', 'link': 'https://stackoverflow.com/users/21734639/shahzad-malik'}, 'is_answered': False, 'view_count': 36, 'answer_count': 1, 'score': 0, 'last_activity_date': 1695736130, 'creation_date': 1692014312, 'last_edit_date': 1692017214, 'question_id': 76898751, 'content_license': 'CC BY-SA 4.0', 'link': 'https://stackoverflow.com/questions/76898751/how-to-find-app-secret-for-whatsapp-business-api', 'title': 'How to find app_secret for whatsapp business api'}, {'tags': ['python', 'selenium-chromedriver', 'knime'], 'owner': {'account_id': 29452203, 'reputation': 13, 'user_id': 22568611, 'user_type': 'registered', 'profile_image': 'https://lh3.googleusercontent.com/a/ACg8ocJZVp4ToPImIenGPgoEvTp241kW712PgBVbueTR-XZV=k-s256', 'display_name': 'Gabriel Beran Ribeiro', 'link': 'https://stackoverflow.com/users/22568611/gabriel-beran-ribeiro'}, 'is_answered': False, 'view_count': 4, 'answer_count': 0, 'score': 0, 'last_activity_date': 1695736127, 'creation_date': 1695736127, 'question_id': 77180637, 'content_license': 'CC BY-SA 4.0', 'link': 'https://stackoverflow.com/questions/77180637/errors-when-runing-a-python-code-containing-selenium-in-knime', 'title': 'Errors when runing a Python code containing Selenium in KNIME'}, {'tags': ['python', 'pandas', 'dataframe', 'csv'], 'owner': {'account_id': 18409024, 'reputation': 143, 'user_id': 13409869, 'user_type': 'registered', 'profile_image': 'https://lh3.googleusercontent.com/a-/AOh14GiAm31OlIL0hDxoM0-Aqe2EAJlXHz6r96ZagLVrfg=k-s256', 'display_name': 'macder', 'link': 'https://stackoverflow.com/users/13409869/macder'}, 'is_answered': False, 'view_count': 6, 'answer_count': 0, 'score': 0, 'last_activity_date': 1695736123, 'creation_date': 1695736123, 'question_id': 77180636, 'content_license': 'CC BY-SA 4.0', 'link': 'https://stackoverflow.com/questions/77180636/python-pandas-dataframe-transfer-data-from-dictionary-to-a-right-cell', 'title': 'Python pandas DataFrame: Transfer data from dictionary to a right cell'}, {'tags': ['javascript', 'error-handling', 'ejs', 'middleware'], 'owner': {'account_id': 29538859, 'reputation': 1, 'user_id': 22637963, 'user_type': 'registered', 'profile_image': 'https://lh3.googleusercontent.com/a/ACg8ocIveeLqe0wlC3H-OQNAfcxWhuBfGcDlwXlrKzdXMHy6Uclx=k-s256', 'display_name': 'Miriam Sparbrod', 'link': 'https://stackoverflow.com/users/22637963/miriam-sparbrod'}, 'is_answered': False, 'view_count': 5, 'answer_count': 0, 'score': 0, 'last_activity_date': 1695736122, 'creation_date': 1695735032, 'last_edit_date': 1695736122, 'question_id': 77180491, 'content_license': 'CC BY-SA 4.0', 'link': 'https://stackoverflow.com/questions/77180491/seeking-guidance-on-error-handling-and-routing', 'title': 'Seeking Guidance on Error Handling and Routing'}, {'tags': ['c', 'micro-optimization', 'signed-integer'], 'owner': {'account_id': 1129901, 'reputation': 9911, 'user_id': 1132871, 'user_type': 'registered', 'accept_rate': 76, 'profile_image': 'https://i.stack.imgur.com/IO6V2.jpg?s=256&g=1', 'display_name': 'Alex', 'link': 'https://stackoverflow.com/users/1132871/alex'}, 'is_answered': True, 'view_count': 31240, 'accepted_answer_id': 14612943, 'answer_count': 6, 'score': 17, 'last_activity_date': 1695736121, 'creation_date': 1359452860, 'last_edit_date': 1683927654, 'question_id': 14579920, 'content_license': 'CC BY-SA 4.0', 'link': 'https://stackoverflow.com/questions/14579920/fast-sign-of-integer-in-c', 'title': 'Fast sign of integer in C'}, {'tags': ['javascript', 'dynamics-crm', 'powerapps', 'dataverse', 'powerapps-modeldriven'], 'owner': {'account_id': 29537388, 'reputation': 1, 'user_id': 22636762, 'user_type': 'registered', 'profile_image': 'https://www.gravatar.com/avatar/4a27c13052c054a574e2442d3d43536f?s=256&d=identicon&r=PG&f=y&so-version=2', 'display_name': 'LostMary', 'link': 'https://stackoverflow.com/users/22636762/lostmary'}, 'is_answered': False, 'view_count': 7, 'answer_count': 1, 'score': 0, 'last_activity_date': 1695736121, 'creation_date': 1695722792, 'question_id': 77178984, 'content_license': 'CC BY-SA 4.0', 'link': 'https://stackoverflow.com/questions/77178984/dataverse-xrm-is-there-a-way-to-hide-fields-in-a-form-if-a-choice-field-is-set', 'title': 'Dataverse XRM: Is there a way to hide fields in a Form if a choice field is set to 0 (No)?'}, {'tags': ['swift', 'metal', 'mtkview'], 'owner': {'account_id': 15626859, 'reputation': 155, 'user_id': 11274269, 'user_type': 'registered', 'profile_image': 'https://www.gravatar.com/avatar/5c6bdfec6fda7ef86ef0a6740d010051?s=256&d=identicon&r=PG&f=y&so-version=2', 'display_name': 'zakray', 'link': 'https://stackoverflow.com/users/11274269/zakray'}, 'is_answered': False, 'view_count': 24, 'answer_count': 0, 'score': 0, 'last_activity_date': 1695736115, 'creation_date': 1695653216, 'last_edit_date': 1695736115, 'question_id': 77173686, 'content_license': 'CC BY-SA 4.0', 'link': 'https://stackoverflow.com/questions/77173686/camera-app-lags-after-switching-from-avcapturevideopreviewlayer-to-mtkview', 'title': 'Camera app lags after switching from AVCaptureVideoPreviewLayer to MTKView'}, {'tags': ['css', 'css-selectors', 'elementor', 'inspector'], 'owner': {'account_id': 29537925, 'reputation': 11, 'user_id': 22637201, 'user_type': 'registered', 'profile_image': 'https://lh3.googleusercontent.com/a/ACg8ocJk4Cj7FmjpLD2oB9ggG3g6EseIrlbRqu5ESOqsjA2F=k-s256', 'display_name': 'Elroy van Akkeren', 'link': 'https://stackoverflow.com/users/22637201/elroy-van-akkeren'}, 'is_answered': False, 'view_count': 30, 'answer_count': 3, 'score': 0, 'last_activity_date': 1695736098, 'creation_date': 1695729480, 'last_edit_date': 1695735794, 'question_id': 77179799, 'content_license': 'CC BY-SA 4.0', 'link': 'https://stackoverflow.com/questions/77179799/css-doenst-seem-to-work-using-google-inspect', 'title': 'CSS doenst seem to work using google inspect'}, {'tags': ['c#', 'uitextfield'], 'owner': {'account_id': 28165213, 'reputation': 1, 'user_id': 21524498, 'user_type': 'registered', 'profile_image': 'https://i.stack.imgur.com/28Lb2.jpg?s=256&g=1', 'display_name': 'MCotuna', 'link': 'https://stackoverflow.com/users/21524498/mcotuna'}, 'is_answered': False, 'view_count': 3, 'answer_count': 0, 'score': 0, 'last_activity_date': 1695736089, 'creation_date': 1695736089, 'question_id': 77180633, 'content_license': 'CC BY-SA 4.0', 'link': 'https://stackoverflow.com/questions/77180633/rescale-all-in-text-ui-at-runtime-via-a-settings-menu', 'title': 'Rescale all in-text UI at runtime via a settings menu'}, {'tags': ['jenkins-pipeline', 'jenkins-blueocean'], 'owner': {'account_id': 29487809, 'reputation': 1, 'user_id': 22597335, 'user_type': 'registered', 'profile_image': 'https://www.gravatar.com/avatar/2ba6ea1e2d053560fbe6c3a4c7514a4b?s=256&d=identicon&r=PG&f=y&so-version=2', 'display_name': 'ramya', 'link': 'https://stackoverflow.com/users/22597335/ramya'}, 'is_answered': False, 'view_count': 3, 'answer_count': 0, 'score': 0, 'last_activity_date': 1695736084, 'creation_date': 1695736084, 'question_id': 77180632, 'content_license': 'CC BY-SA 4.0', 'link': 'https://stackoverflow.com/questions/77180632/how-to-hide-the-shell-script-in-blue-ocean-page-in-jenkins', 'title': 'How to hide the shell script in Blue Ocean page in Jenkins'}, {'tags': ['sql'], 'owner': {'account_id': 16348164, 'reputation': 1, 'user_id': 11807386, 'user_type': 'registered', 'profile_image': 'https://www.gravatar.com/avatar/5e1efa8fd3c66711a72217a70d11e0f3?s=256&d=identicon&r=PG&f=y&so-version=2', 'display_name': 'Poisson', 'link': 'https://stackoverflow.com/users/11807386/poisson'}, 'is_answered': False, 'view_count': 5, 'answer_count': 0, 'score': 0, 'last_activity_date': 1695736083, 'creation_date': 1695736083, 'question_id': 77180631, 'content_license': 'CC BY-SA 4.0', 'link': 'https://stackoverflow.com/questions/77180631/creating-a-rolling-metric-in-sql', 'title': 'Creating a Rolling metric in SQL'}, {'tags': ['c#', 'xamarin.forms', 'android-sdk-tools', 'amd-processor', 'android-sdk-manager'], 'owner': {'account_id': 23957563, 'reputation': 1, 'user_id': 17948207, 'user_type': 'registered', 'profile_image': 'https://lh3.googleusercontent.com/a-/AOh14GhGpD_FMXmBrUPtbphqYZnElDGJsgUClA7aWxcp=k-s256', 'display_name': 'LAXStudios', 'link': 'https://stackoverflow.com/users/17948207/laxstudios'}, 'is_answered': True, 'view_count': 165, 'accepted_answer_id': 71172142, 'answer_count': 2, 'score': -1, 'last_activity_date': 1695736078, 'creation_date': 1642350312, 'last_edit_date': 1695736078, 'question_id': 70731938, 'content_license': 'CC BY-SA 4.0', 'link': 'https://stackoverflow.com/questions/70731938/visualstudio2019-sdk-android-manager-dosnt-start-instead-giveng-warning-ger%c3%a4te', 'title': 'VisualStudio2019 SDK Android Manager dosnt Start, instead giveng Warning: Ger&#228;tefehler: value (&#39;emu.uuid=c1d2555f-5c69-44bc-ae95-56d2f66aaac1&#39;), onl'}, {'tags': ['mariadb', 'subquery'], 'owner': {'account_id': 13302313, 'reputation': 875, 'user_id': 9603417, 'user_type': 'registered', 'profile_image': 'https://i.stack.imgur.com/aJfoP.png?s=256&g=1', 'display_name': 'Paul-Marie', 'link': 'https://stackoverflow.com/users/9603417/paul-marie'}, 'is_answered': False, 'view_count': 7, 'answer_count': 0, 'score': 0, 'last_activity_date': 1695736075, 'creation_date': 1695736075, 'question_id': 77180630, 'content_license': 'CC BY-SA 4.0', 'link': 'https://stackoverflow.com/questions/77180630/how-to-ignore-subquery-result-if-its-empty', 'title': 'How to ignore subquery result if it&#39;s empty'}, {'tags': ['linux', 'systemd'], 'owner': {'account_id': 6846374, 'reputation': 1147, 'user_id': 5275810, 'user_type': 'registered', 'accept_rate': 20, 'profile_image': 'https://www.gravatar.com/avatar/8130993d9eefde847f944d9ee1f02160?s=256&d=identicon&r=PG&f=y&so-version=2', 'display_name': 'anikhan', 'link': 'https://stackoverflow.com/users/5275810/anikhan'}, 'is_answered': False, 'view_count': 1719, 'answer_count': 2, 'score': -2, 'last_activity_date': 1695736070, 'creation_date': 1517909839, 'last_edit_date': 1517909966, 'question_id': 48639764, 'content_license': 'CC BY-SA 3.0', 'link': 'https://stackoverflow.com/questions/48639764/systemd-service-description-in-dmesg', 'title': 'systemd service description in dmesg'}]\n"
     ]
    }
   ],
   "source": [
    "# To get specific data\n",
    "print(response.json()['items'])"
   ]
  },
  {
   "cell_type": "code",
   "execution_count": 16,
   "id": "fdb4dd80",
   "metadata": {},
   "outputs": [
    {
     "name": "stdout",
     "output_type": "stream",
     "text": [
      "Enabling Virtualization (SVM Mode) Causing AMD 7900x Graphics Driver to Fail\n",
      "https://stackoverflow.com/questions/76693949/enabling-virtualization-svm-mode-causing-amd-7900x-graphics-driver-to-fail\n",
      "Django Table2 reverse ManyTomany\n",
      "https://stackoverflow.com/questions/77158777/django-table2-reverse-manytomany\n",
      "Define union type from typed list\n",
      "https://stackoverflow.com/questions/77180240/define-union-type-from-typed-list\n",
      "How can you enable a class template member function only if a template argument was provided?\n",
      "https://stackoverflow.com/questions/77180317/how-can-you-enable-a-class-template-member-function-only-if-a-template-argument\n",
      "&#39;File name differs from already included file name only in casing&#39; on relative path with same casing\n",
      "https://stackoverflow.com/questions/51197940/file-name-differs-from-already-included-file-name-only-in-casing-on-relative-p\n",
      "PhysicallyBasedMaterial always render specular/shine\n",
      "https://stackoverflow.com/questions/77160476/physicallybasedmaterial-always-render-specular-shine\n",
      "UnsupportedOperationException while iterating over CopyOnWriteArrayList\n",
      "https://stackoverflow.com/questions/52467653/unsupportedoperationexception-while-iterating-over-copyonwritearraylist\n",
      "qemu: uncaught target signal 11 (Segmentation fault) - core dumped in docker container after changing to an M1 mac\n",
      "https://stackoverflow.com/questions/74556279/qemu-uncaught-target-signal-11-segmentation-fault-core-dumped-in-docker-con\n",
      "Sort List of Times (no dates)\n",
      "https://stackoverflow.com/questions/77180642/sort-list-of-times-no-dates\n",
      "Finding the most prevalent alphabet in a string\n",
      "https://stackoverflow.com/questions/77174281/finding-the-most-prevalent-alphabet-in-a-string\n",
      "Combine different columns pattern of string to a new column in R\n",
      "https://stackoverflow.com/questions/77180625/combine-different-columns-pattern-of-string-to-a-new-column-in-r\n",
      "Using a Node ENV Variable as a default method parameter\n",
      "https://stackoverflow.com/questions/77180360/using-a-node-env-variable-as-a-default-method-parameter\n",
      "Change Scrollbar Color depending on backgroundcolor next to it\n",
      "https://stackoverflow.com/questions/77180610/change-scrollbar-color-depending-on-backgroundcolor-next-to-it\n",
      "How to join two tables with aggreagation\n",
      "https://stackoverflow.com/questions/77180458/how-to-join-two-tables-with-aggreagation\n",
      "Something wrong with C++ standard (or most probably that I don&#39;t understand english well)\n",
      "https://stackoverflow.com/questions/77180513/something-wrong-with-c-standard-or-most-probably-that-i-dont-understand-engl\n",
      "R function missing input specific error code generation\n",
      "https://stackoverflow.com/questions/77180574/r-function-missing-input-specific-error-code-generation\n",
      "How to find app_secret for whatsapp business api\n",
      "https://stackoverflow.com/questions/76898751/how-to-find-app-secret-for-whatsapp-business-api\n",
      "Errors when runing a Python code containing Selenium in KNIME\n",
      "https://stackoverflow.com/questions/77180637/errors-when-runing-a-python-code-containing-selenium-in-knime\n",
      "Python pandas DataFrame: Transfer data from dictionary to a right cell\n",
      "https://stackoverflow.com/questions/77180636/python-pandas-dataframe-transfer-data-from-dictionary-to-a-right-cell\n",
      "Seeking Guidance on Error Handling and Routing\n",
      "https://stackoverflow.com/questions/77180491/seeking-guidance-on-error-handling-and-routing\n",
      "Fast sign of integer in C\n",
      "https://stackoverflow.com/questions/14579920/fast-sign-of-integer-in-c\n",
      "Dataverse XRM: Is there a way to hide fields in a Form if a choice field is set to 0 (No)?\n",
      "https://stackoverflow.com/questions/77178984/dataverse-xrm-is-there-a-way-to-hide-fields-in-a-form-if-a-choice-field-is-set\n",
      "Camera app lags after switching from AVCaptureVideoPreviewLayer to MTKView\n",
      "https://stackoverflow.com/questions/77173686/camera-app-lags-after-switching-from-avcapturevideopreviewlayer-to-mtkview\n",
      "CSS doenst seem to work using google inspect\n",
      "https://stackoverflow.com/questions/77179799/css-doenst-seem-to-work-using-google-inspect\n",
      "Rescale all in-text UI at runtime via a settings menu\n",
      "https://stackoverflow.com/questions/77180633/rescale-all-in-text-ui-at-runtime-via-a-settings-menu\n",
      "How to hide the shell script in Blue Ocean page in Jenkins\n",
      "https://stackoverflow.com/questions/77180632/how-to-hide-the-shell-script-in-blue-ocean-page-in-jenkins\n",
      "Creating a Rolling metric in SQL\n",
      "https://stackoverflow.com/questions/77180631/creating-a-rolling-metric-in-sql\n",
      "VisualStudio2019 SDK Android Manager dosnt Start, instead giveng Warning: Ger&#228;tefehler: value (&#39;emu.uuid=c1d2555f-5c69-44bc-ae95-56d2f66aaac1&#39;), onl\n",
      "https://stackoverflow.com/questions/70731938/visualstudio2019-sdk-android-manager-dosnt-start-instead-giveng-warning-ger%c3%a4te\n",
      "How to ignore subquery result if it&#39;s empty\n",
      "https://stackoverflow.com/questions/77180630/how-to-ignore-subquery-result-if-its-empty\n",
      "systemd service description in dmesg\n",
      "https://stackoverflow.com/questions/48639764/systemd-service-description-in-dmesg\n"
     ]
    }
   ],
   "source": [
    "for data  in response.json()['items']:\n",
    "    print(data['title'])\n",
    "    print(data['link'])\n",
    "    "
   ]
  },
  {
   "cell_type": "code",
   "execution_count": 19,
   "id": "01c23d28",
   "metadata": {},
   "outputs": [
    {
     "name": "stdout",
     "output_type": "stream",
     "text": [
      "Enabling Virtualization (SVM Mode) Causing AMD 7900x Graphics Driver to Fail\n",
      "https://stackoverflow.com/questions/76693949/enabling-virtualization-svm-mode-causing-amd-7900x-graphics-driver-to-fail\n",
      "\n",
      "skipped\n",
      "\n",
      "skipped\n",
      "\n",
      "skipped\n",
      "\n",
      "skipped\n",
      "\n",
      "skipped\n",
      "\n",
      "skipped\n",
      "\n",
      "skipped\n",
      "\n",
      "Sort List of Times (no dates)\n",
      "https://stackoverflow.com/questions/77180642/sort-list-of-times-no-dates\n",
      "\n",
      "skipped\n",
      "\n",
      "Combine different columns pattern of string to a new column in R\n",
      "https://stackoverflow.com/questions/77180625/combine-different-columns-pattern-of-string-to-a-new-column-in-r\n",
      "\n",
      "skipped\n",
      "\n",
      "Change Scrollbar Color depending on backgroundcolor next to it\n",
      "https://stackoverflow.com/questions/77180610/change-scrollbar-color-depending-on-backgroundcolor-next-to-it\n",
      "\n",
      "skipped\n",
      "\n",
      "skipped\n",
      "\n",
      "skipped\n",
      "\n",
      "skipped\n",
      "\n",
      "Errors when runing a Python code containing Selenium in KNIME\n",
      "https://stackoverflow.com/questions/77180637/errors-when-runing-a-python-code-containing-selenium-in-knime\n",
      "\n",
      "Python pandas DataFrame: Transfer data from dictionary to a right cell\n",
      "https://stackoverflow.com/questions/77180636/python-pandas-dataframe-transfer-data-from-dictionary-to-a-right-cell\n",
      "\n",
      "Seeking Guidance on Error Handling and Routing\n",
      "https://stackoverflow.com/questions/77180491/seeking-guidance-on-error-handling-and-routing\n",
      "\n",
      "skipped\n",
      "\n",
      "skipped\n",
      "\n",
      "Camera app lags after switching from AVCaptureVideoPreviewLayer to MTKView\n",
      "https://stackoverflow.com/questions/77173686/camera-app-lags-after-switching-from-avcapturevideopreviewlayer-to-mtkview\n",
      "\n",
      "skipped\n",
      "\n",
      "Rescale all in-text UI at runtime via a settings menu\n",
      "https://stackoverflow.com/questions/77180633/rescale-all-in-text-ui-at-runtime-via-a-settings-menu\n",
      "\n",
      "How to hide the shell script in Blue Ocean page in Jenkins\n",
      "https://stackoverflow.com/questions/77180632/how-to-hide-the-shell-script-in-blue-ocean-page-in-jenkins\n",
      "\n",
      "Creating a Rolling metric in SQL\n",
      "https://stackoverflow.com/questions/77180631/creating-a-rolling-metric-in-sql\n",
      "\n",
      "skipped\n",
      "\n",
      "How to ignore subquery result if it&#39;s empty\n",
      "https://stackoverflow.com/questions/77180630/how-to-ignore-subquery-result-if-its-empty\n",
      "\n",
      "skipped\n",
      "\n"
     ]
    }
   ],
   "source": [
    "# Scenario: To filter out which quetion i want ot answe so for this we will see 'answer_count'\n",
    "for data in response.json()['items']:\n",
    "    if data['answer_count'] == 0:\n",
    "        print(data['title'])\n",
    "        print(data['link'])\n",
    "    else:\n",
    "        print(\"skipped\")\n",
    "    print()    "
   ]
  },
  {
   "cell_type": "code",
   "execution_count": 20,
   "id": "f549250c",
   "metadata": {},
   "outputs": [],
   "source": [
    "#Setting up own api"
   ]
  },
  {
   "cell_type": "code",
   "execution_count": 30,
   "id": "44b942bb",
   "metadata": {},
   "outputs": [
    {
     "name": "stdout",
     "output_type": "stream",
     "text": [
      " * Serving Flask app '__main__'\n",
      " * Debug mode: on\n"
     ]
    },
    {
     "name": "stderr",
     "output_type": "stream",
     "text": [
      "WARNING: This is a development server. Do not use it in a production deployment. Use a production WSGI server instead.\n",
      " * Running on http://127.0.0.1:5000\n",
      "Press CTRL+C to quit\n",
      " * Restarting with watchdog (windowsapi)\n"
     ]
    },
    {
     "ename": "SystemExit",
     "evalue": "1",
     "output_type": "error",
     "traceback": [
      "An exception has occurred, use %tb to see the full traceback.\n",
      "\u001b[1;31mSystemExit\u001b[0m\u001b[1;31m:\u001b[0m 1\n"
     ]
    },
    {
     "name": "stderr",
     "output_type": "stream",
     "text": [
      "C:\\anaconda\\lib\\site-packages\\IPython\\core\\interactiveshell.py:3377: UserWarning: To exit: use 'exit', 'quit', or Ctrl-D.\n",
      "  warn(\"To exit: use 'exit', 'quit', or Ctrl-D.\", stacklevel=1)\n"
     ]
    }
   ],
   "source": [
    "from flask import Flask\n",
    "app = Flask(__name__)\n",
    "\n",
    "@app.route('/')\n",
    "def home():\n",
    "    return \"Hello, World!\"\n",
    "app.run(debug=True)"
   ]
  },
  {
   "cell_type": "code",
   "execution_count": null,
   "id": "20db237f",
   "metadata": {},
   "outputs": [],
   "source": []
  }
 ],
 "metadata": {
  "kernelspec": {
   "display_name": "Python 3 (ipykernel)",
   "language": "python",
   "name": "python3"
  },
  "language_info": {
   "codemirror_mode": {
    "name": "ipython",
    "version": 3
   },
   "file_extension": ".py",
   "mimetype": "text/x-python",
   "name": "python",
   "nbconvert_exporter": "python",
   "pygments_lexer": "ipython3",
   "version": "3.9.12"
  }
 },
 "nbformat": 4,
 "nbformat_minor": 5
}
